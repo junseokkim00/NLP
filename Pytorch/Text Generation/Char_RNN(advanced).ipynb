{
 "cells": [
  {
   "attachments": {},
   "cell_type": "markdown",
   "metadata": {},
   "source": [
    "# Char_RNN (using a lot of sentence as data)"
   ]
  },
  {
   "cell_type": "code",
   "execution_count": 15,
   "metadata": {},
   "outputs": [],
   "source": [
    "import torch\n",
    "import torch.nn as nn\n",
    "import torch.optim as optim\n",
    "import numpy as np"
   ]
  },
  {
   "cell_type": "code",
   "execution_count": 16,
   "metadata": {},
   "outputs": [],
   "source": [
    "sentence = (\"if you want to build a ship, don't drum up people together to \"\n",
    "            \"collect wood and don't assign them tasks and work, but rather \"\n",
    "            \"teach them to long for the endless immensity of the sea.\")"
   ]
  },
  {
   "cell_type": "code",
   "execution_count": 17,
   "metadata": {},
   "outputs": [
    {
     "name": "stdout",
     "output_type": "stream",
     "text": [
      "{'f': 0, 'y': 1, 'o': 2, 'b': 3, 'r': 4, 't': 5, \"'\": 6, 'm': 7, 'g': 8, 'c': 9, 'u': 10, '.': 11, ',': 12, 'e': 13, 'h': 14, 'p': 15, 'a': 16, 'i': 17, 'k': 18, 'w': 19, 's': 20, 'd': 21, 'n': 22, ' ': 23, 'l': 24}\n"
     ]
    }
   ],
   "source": [
    "char_set = list(set(sentence))\n",
    "char_dic = {c: i for i, c in enumerate(char_set)}\n",
    "print(char_dic)"
   ]
  },
  {
   "cell_type": "code",
   "execution_count": 18,
   "metadata": {},
   "outputs": [
    {
     "name": "stdout",
     "output_type": "stream",
     "text": [
      "25\n"
     ]
    }
   ],
   "source": [
    "dic_size = len(char_dic)\n",
    "print(dic_size)"
   ]
  },
  {
   "cell_type": "code",
   "execution_count": 19,
   "metadata": {},
   "outputs": [],
   "source": [
    "hidden_size = dic_size\n",
    "timesteps = 10\n",
    "lr = 0.1"
   ]
  },
  {
   "cell_type": "code",
   "execution_count": 20,
   "metadata": {},
   "outputs": [
    {
     "name": "stdout",
     "output_type": "stream",
     "text": [
      "0 if you wan => f you want\n",
      "1 f you want =>  you want \n",
      "2  you want  => you want t\n",
      "3 you want t => ou want to\n",
      "4 ou want to => u want to \n",
      "5 u want to  =>  want to b\n",
      "6  want to b => want to bu\n",
      "7 want to bu => ant to bui\n",
      "8 ant to bui => nt to buil\n",
      "9 nt to buil => t to build\n",
      "10 t to build =>  to build \n",
      "11  to build  => to build a\n",
      "12 to build a => o build a \n",
      "13 o build a  =>  build a s\n",
      "14  build a s => build a sh\n",
      "15 build a sh => uild a shi\n",
      "16 uild a shi => ild a ship\n",
      "17 ild a ship => ld a ship,\n",
      "18 ld a ship, => d a ship, \n",
      "19 d a ship,  =>  a ship, d\n",
      "20  a ship, d => a ship, do\n",
      "21 a ship, do =>  ship, don\n",
      "22  ship, don => ship, don'\n",
      "23 ship, don' => hip, don't\n",
      "24 hip, don't => ip, don't \n",
      "25 ip, don't  => p, don't d\n",
      "26 p, don't d => , don't dr\n",
      "27 , don't dr =>  don't dru\n",
      "28  don't dru => don't drum\n",
      "29 don't drum => on't drum \n",
      "30 on't drum  => n't drum u\n",
      "31 n't drum u => 't drum up\n",
      "32 't drum up => t drum up \n",
      "33 t drum up  =>  drum up p\n",
      "34  drum up p => drum up pe\n",
      "35 drum up pe => rum up peo\n",
      "36 rum up peo => um up peop\n",
      "37 um up peop => m up peopl\n",
      "38 m up peopl =>  up people\n",
      "39  up people => up people \n",
      "40 up people  => p people t\n",
      "41 p people t =>  people to\n",
      "42  people to => people tog\n",
      "43 people tog => eople toge\n",
      "44 eople toge => ople toget\n",
      "45 ople toget => ple togeth\n",
      "46 ple togeth => le togethe\n",
      "47 le togethe => e together\n",
      "48 e together =>  together \n",
      "49  together  => together t\n",
      "50 together t => ogether to\n",
      "51 ogether to => gether to \n",
      "52 gether to  => ether to c\n",
      "53 ether to c => ther to co\n",
      "54 ther to co => her to col\n",
      "55 her to col => er to coll\n",
      "56 er to coll => r to colle\n",
      "57 r to colle =>  to collec\n",
      "58  to collec => to collect\n",
      "59 to collect => o collect \n",
      "60 o collect  =>  collect w\n",
      "61  collect w => collect wo\n",
      "62 collect wo => ollect woo\n",
      "63 ollect woo => llect wood\n",
      "64 llect wood => lect wood \n",
      "65 lect wood  => ect wood a\n",
      "66 ect wood a => ct wood an\n",
      "67 ct wood an => t wood and\n",
      "68 t wood and =>  wood and \n",
      "69  wood and  => wood and d\n",
      "70 wood and d => ood and do\n",
      "71 ood and do => od and don\n",
      "72 od and don => d and don'\n",
      "73 d and don' =>  and don't\n",
      "74  and don't => and don't \n",
      "75 and don't  => nd don't a\n",
      "76 nd don't a => d don't as\n",
      "77 d don't as =>  don't ass\n",
      "78  don't ass => don't assi\n",
      "79 don't assi => on't assig\n",
      "80 on't assig => n't assign\n",
      "81 n't assign => 't assign \n",
      "82 't assign  => t assign t\n",
      "83 t assign t =>  assign th\n",
      "84  assign th => assign the\n",
      "85 assign the => ssign them\n",
      "86 ssign them => sign them \n",
      "87 sign them  => ign them t\n",
      "88 ign them t => gn them ta\n",
      "89 gn them ta => n them tas\n",
      "90 n them tas =>  them task\n",
      "91  them task => them tasks\n",
      "92 them tasks => hem tasks \n",
      "93 hem tasks  => em tasks a\n",
      "94 em tasks a => m tasks an\n",
      "95 m tasks an =>  tasks and\n",
      "96  tasks and => tasks and \n",
      "97 tasks and  => asks and w\n",
      "98 asks and w => sks and wo\n",
      "99 sks and wo => ks and wor\n",
      "100 ks and wor => s and work\n",
      "101 s and work =>  and work,\n",
      "102  and work, => and work, \n",
      "103 and work,  => nd work, b\n",
      "104 nd work, b => d work, bu\n",
      "105 d work, bu =>  work, but\n",
      "106  work, but => work, but \n",
      "107 work, but  => ork, but r\n",
      "108 ork, but r => rk, but ra\n",
      "109 rk, but ra => k, but rat\n",
      "110 k, but rat => , but rath\n",
      "111 , but rath =>  but rathe\n",
      "112  but rathe => but rather\n",
      "113 but rather => ut rather \n",
      "114 ut rather  => t rather t\n",
      "115 t rather t =>  rather te\n",
      "116  rather te => rather tea\n",
      "117 rather tea => ather teac\n",
      "118 ather teac => ther teach\n",
      "119 ther teach => her teach \n",
      "120 her teach  => er teach t\n",
      "121 er teach t => r teach th\n",
      "122 r teach th =>  teach the\n",
      "123  teach the => teach them\n",
      "124 teach them => each them \n",
      "125 each them  => ach them t\n",
      "126 ach them t => ch them to\n",
      "127 ch them to => h them to \n",
      "128 h them to  =>  them to l\n",
      "129  them to l => them to lo\n",
      "130 them to lo => hem to lon\n",
      "131 hem to lon => em to long\n",
      "132 em to long => m to long \n",
      "133 m to long  =>  to long f\n",
      "134  to long f => to long fo\n",
      "135 to long fo => o long for\n",
      "136 o long for =>  long for \n",
      "137  long for  => long for t\n",
      "138 long for t => ong for th\n",
      "139 ong for th => ng for the\n",
      "140 ng for the => g for the \n",
      "141 g for the  =>  for the e\n",
      "142  for the e => for the en\n",
      "143 for the en => or the end\n",
      "144 or the end => r the endl\n",
      "145 r the endl =>  the endle\n",
      "146  the endle => the endles\n",
      "147 the endles => he endless\n",
      "148 he endless => e endless \n",
      "149 e endless  =>  endless i\n",
      "150  endless i => endless im\n",
      "151 endless im => ndless imm\n",
      "152 ndless imm => dless imme\n",
      "153 dless imme => less immen\n",
      "154 less immen => ess immens\n",
      "155 ess immens => ss immensi\n",
      "156 ss immensi => s immensit\n",
      "157 s immensit =>  immensity\n",
      "158  immensity => immensity \n",
      "159 immensity  => mmensity o\n",
      "160 mmensity o => mensity of\n",
      "161 mensity of => ensity of \n",
      "162 ensity of  => nsity of t\n",
      "163 nsity of t => sity of th\n",
      "164 sity of th => ity of the\n",
      "165 ity of the => ty of the \n",
      "166 ty of the  => y of the s\n",
      "167 y of the s =>  of the se\n",
      "168  of the se => of the sea\n",
      "169 of the sea => f the sea.\n"
     ]
    }
   ],
   "source": [
    "x_data = []\n",
    "y_data = []\n",
    "\n",
    "for i in range(0, len(sentence) - timesteps):\n",
    "    x_str = sentence[i:i + timesteps]\n",
    "    y_str = sentence[i+1: i + timesteps + 1]\n",
    "    print(i, x_str, '=>', y_str)\n",
    "\n",
    "    x_data.append([char_dic[c] for c in x_str])\n",
    "    y_data.append([char_dic[c] for c in y_str])"
   ]
  },
  {
   "cell_type": "code",
   "execution_count": 30,
   "metadata": {},
   "outputs": [
    {
     "data": {
      "text/plain": [
       "([17, 0, 23, 1, 2, 10, 23, 19, 16, 22], [0, 23, 1, 2, 10, 23, 19, 16, 22, 5])"
      ]
     },
     "execution_count": 30,
     "metadata": {},
     "output_type": "execute_result"
    }
   ],
   "source": [
    "x_data[0], y_data[0]"
   ]
  },
  {
   "cell_type": "code",
   "execution_count": 31,
   "metadata": {},
   "outputs": [],
   "source": [
    "x_one_hot = np.eye(dic_size)[x_data]\n",
    "X = torch.FloatTensor(x_one_hot)\n",
    "Y = torch.LongTensor(y_data)"
   ]
  },
  {
   "cell_type": "code",
   "execution_count": 32,
   "metadata": {},
   "outputs": [
    {
     "name": "stdout",
     "output_type": "stream",
     "text": [
      "torch.Size([170, 10, 25])\n",
      "torch.Size([170, 10])\n"
     ]
    }
   ],
   "source": [
    "print(X.shape)\n",
    "print(Y.shape)"
   ]
  },
  {
   "cell_type": "code",
   "execution_count": 33,
   "metadata": {},
   "outputs": [],
   "source": [
    "class Net(nn.Module):\n",
    "    def __init__(self, input_dim, hidden_dim, layers):\n",
    "        super(Net, self).__init__()\n",
    "        self.rnn = nn.RNN(input_dim, hidden_dim, num_layers=layers, batch_first=True)\n",
    "        self.fc = nn.Linear(hidden_dim, hidden_dim, bias=True)\n",
    "\n",
    "    def forward(self, x):\n",
    "        x, _status = self.rnn(x)\n",
    "        x = self.fc(x)\n",
    "        return x"
   ]
  },
  {
   "cell_type": "code",
   "execution_count": 36,
   "metadata": {},
   "outputs": [],
   "source": [
    "net = Net(dic_size, hidden_size, 2)"
   ]
  },
  {
   "cell_type": "code",
   "execution_count": 37,
   "metadata": {},
   "outputs": [],
   "source": [
    "criterion = nn.CrossEntropyLoss()\n",
    "optimizer = optim.Adam(net.parameters(), lr)"
   ]
  },
  {
   "cell_type": "code",
   "execution_count": 38,
   "metadata": {},
   "outputs": [
    {
     "name": "stdout",
     "output_type": "stream",
     "text": [
      "torch.Size([1700, 25])\n"
     ]
    }
   ],
   "source": [
    "outputs = net(X)\n",
    "print(outputs.view(-1, dic_size).shape)"
   ]
  },
  {
   "cell_type": "code",
   "execution_count": 39,
   "metadata": {},
   "outputs": [
    {
     "name": "stdout",
     "output_type": "stream",
     "text": [
      "torch.Size([1700])\n"
     ]
    }
   ],
   "source": [
    "print(Y.view(-1).shape)"
   ]
  },
  {
   "cell_type": "code",
   "execution_count": 40,
   "metadata": {},
   "outputs": [
    {
     "name": "stdout",
     "output_type": "stream",
     "text": [
      "0 try: cdddcdoccddddddddudddcddduudcccddcdcddcdcodudcuddcddcdddddddddduddddudccuddcdccccddddkddddccdddccoddddccdccccdddccdoddddddddddcddooddccddddudcccddddddcddcddddddccdcudddccdduddcudc\n",
      "1 try: p co pc ppc   poc   p coppp   ppc o pcc p c c p cc o cpo pc o p p cc o p c pp poppc o s pcpo o c p    pppopop c c c c c c pc c c c c c p po pc oppc o c pop p ppc  popp o  ppo po p\n",
      "2 try:       oro   or o r ro   oro  oro   rrs rr  o s   r   s or o rr  rrs  rorr   r o rr orr   r   r    r      o  r  orr   rs   r  rs  rr o   r  rr   rro rr  rr    rorro       rror   or\n",
      "3 try:   nt  nt        n    n          n                          n        n          n        n       n             n     n                           n       n            nn      n     \n",
      "4 try: tyatmihtmihihihihiihihmihhiihiiihhaiiihmiahihihiihiiihmihhihaahhhhiihmihiiihahihhihiiihihmiihiihhihiihhhiihihihiiihihhiiiihhhiiihhhiihhiahihhhiihmihiiiihtiihhhihihaihhiiiihihihhih\n",
      "5 try: tb dma ha d  a  dt   ta       a d   a da    t tt   t  a    da    ta da  a    d date t   dbt e tdt  t    t d d t t e dat t   e at   a   t     dt da  a   taa          tt      t    t\n",
      "6 try: tatdh  oatdt      t t a    t t td tt tda   t t         ttttd t     tda   tt   t a      t h          t     d ot   t t a t t          t          tda   t  oa t  t  t tt         t    \n",
      "7 try: t td  d  t t  otd t t  t o tdt dd td dd  dedotd t  tt  ddtt  ddd d d  td dtdd dd  ot t dd   et ddtd doe  t  dtdt todd  d t  et  o d do  d dd   d  td  tt   dd dtdtdddddtt  dtdtd t \n",
      "8 try: t tt  io t to dt    m  t o t t to    m   t t mo ti tti tt m  ti  m t  t  ttim t    t   mo  t   oo t m  t t   t t   mo  m t o t    i t t t m  t t  tm  mt   m  tmt  tio t   mt   tt \n",
      "9 try: t  t  mo   t        t    t     m     m   t    t  o        m  mt    m       m  m        t   t   o  m t  m     m     t   m   t        m        m m      t    t        mt             \n",
      "10 try: t sh  t  s tss s ss t  ss    ssm  ss m   h s st    s  ssssm  mm st t  sssssm  t ss ss  s   t ss   m t  mss   m  s  s s s s   ss   s   ts  s  m    s sst  ss s ss s  m  s   t    s  \n",
      "11 try: t s  s   ssmtstt t sm  ss s lss  stss   s  s s  mds stss s  s  ss s sssssst s h so ttss  ss  s   s s s  s  s    ts   ssss s smss sts s sssmss s ssmssstmss  ssttm  s   tsss s sst s\n",
      "12 try: t  e          t eo          t   t o      e       t            e           o   e  o  t          t                t          e     o    t               t        o  t  t             \n",
      "13 try: t  ee         t e    t   e  e   t     e  ee t e  e         t                   e  t     e   t  tt             t                                                   t  e             \n",
      "14 try: t t e   t     e t        e  e   t        te   t            t                      t     e   t             t         e       t                                        et      t t   \n",
      "15 try: t t   t  t t  t tt  t          t  t    t t       t        t  t     t      t   t  t  t                           t tt       t        t t      tt   t   t       tt   t t  t          \n",
      "16 try: t t   t    t  t tt  t       t  t  t    t t       t        t  t     t      t   t  t  t      t                    t tt       t     t  t t  tt   t   t   t       t    t    t  t     tt\n",
      "17 try: t t       tt  t t   t    t  t  tt         to     to   t   t  t            t   t   t        t    t         to    t t t      t          t  o    o   to  t to              t  to    t \n",
      "18 try: t t   t ttot  t  t  t t  t  t   t t  t t  t  t   to   t     tt     t t    t   t   t     t  t    t     t   t d   tot t      t     t    t       t   tot t t    tto  m     o  to    t \n",
      "19 try: tot  tto t t  t  t  tot t   t  t  t  tot     to  to   t   to t  t  t      t t t  t  to  t tto   t     t t t     t  tt t    t  t  t    t  t  t t   t   t       t    t to t  t   t   \n",
      "20 try: dot   to t t  tn to tot tt  t  ttod  t t t e to  to   t   to d    et d    t t to tt to  t tto   td  t tet t   t d  ttot    do td t e  td td   t   to  t   t   do   t to to t   t t \n",
      "21 try: totnd te 'eeo dotig tnt im  to it to tet  t dit  to       t  to   ntot  e tns d   t tnnnt tto   do   gtup t tnt tnt t  ig  tl  tntoee t  t  s t   toe tnt ee  to eet to tn tot t   \n",
      "22 try: totolthnse to t dto toaoie  do tt to tmt eto id  to  tht  to t et nt t  i tn  doudt to nt tto   dod  nt p to nd dodot dot  to  eltoee to toot t  nd e tnt t   do eeteto tg tot tnt \n",
      "23 try: toto ttout to tsde  d aote  do dtet  d t  do tt  toe thm  doetonsen  to e tes do dtet  utotto   toto nton do el t sht toe  dos eetoe  do t e  t  etoe tnd e   ta estee  aeltoe wod \n",
      "24 try: totentooht to totes totoiea do 't to d te to tlo tod  he  do tond nsoto estns do dt to itotto   tod  etop eou d to htotoe  don e th   to to d t uesoe tnd e   ta e teeo a  toe toe \n",
      "25 try: tot rtdo t to todta t to to tondt to t t  tonet nt    h   to to d  s tonestns don't to itottoe  to   ntod doont tothto e   tond eth   to to d ton t e t s d s to e  eto ahntoe tndt\n",
      "26 try: totoutloo' to tod e toto e  to 't to d te to  e  th  tht  to to t  t tounstnd do tt t t tnttot  toto nt r doont tothtothe  tos t th r to to t tos th  tnd e   ta   t ea a ethe to t\n",
      "27 try: totnutloo' to tos   hotoite don't tout te doui   toe th   dontont rt tooietnd  oudt touituttee  tosr  t d donid tothtoshek do    to   do tond d u to  t t u u de   d  a u eth  to e\n",
      "28 try: totnutton' tontot e toaoit  don't tout de doui   the sh m io thnt rt too' and dou't tonitrsthem donk  t d donit tot tosh m doss  to   dontond d r the t d u u tou  d to u  thiuto d\n",
      "29 try: totnuiton' tontot   doaoi   don't dond da dont  sthe sh m do tond  t poo  and don't desip sthem donm  to' bon t dnt dos em dost  th   pontond dor the tnd   m to   t le a rth mtor,\n",
      "30 try: tutnottoo' to coi e aoao e, don't dond dm don ,tmtoe them to lo d nt poo  and don't dm  dntthem dosm  to' dookd dnt dnthem doss eto   po cond do  the tnd e   we emstle a rthemtnr,\n",
      "31 try: totnotton' to toi e aoao t, ton't dont dm do ',emtoe them woecoe  nt too' and won't do  dntthem dosm nto' wonn, dnt tnthem to s etoe  to co d do  the tnd h   wo emstlo aarthe the,\n",
      "32 try: totnotton' tontoi eoaoaoit, ton't ton' ds to 'lertoe  hem wo chedent too' and won't to it tthe  wo   eto' wook, tnt toshe  to shethe  to cond don the tnd o   wo e d to aarahe the,\n",
      "33 try: tstnotton' tontotlt aotoits ton't tont tl to 'le toe the  toelhed nthtoo' and won't ts ip tthe  toek ntod wonk, tut t the  to s ether to cond ton the tnd en  to e tito an the tnrd\n",
      "34 try: tstnriponp to botlt astoipl ton't ao t tl to dl mtoe ther toelhed  s dood and don't ds ip tthe  doer  tod wook, tut tnthe  to t etoer to bond to  the tnd en  ts   tito an the tnr,\n",
      "35 try: tstnribonp to bnild astoitl ton't doup tp tyo'leutoe ther toelhn, ct doop and don't ds  t ttee  do ki aod wook, tut duther tort etoer do bond tor the tnd en  ts   sito an the thns\n",
      "36 try: tstnoitonp to build astoipl don't aoup tp teoklertne ther toelhnl ct aonpland don't as  t tteer do  s to' douk, dut duthem tors  toer do bond don the tnd e   ts   sity uf the thdc\n",
      "37 try: gstortlonp to bui d astoitl don't aoup t, tlok erthe ther tonconl ct aonpland don't aso d tteem dos s aod donk, dut duthem to s ethem do bond don the tnd ens dn   sitl uf themthrc\n",
      "38 try: gstorttonplao build aschipl don't aoot tm tlople themthem to ch lemt aonplan' won't assitmtieem dos s ao' wonk, dut duthem tonshetoem tonbont dor the tndle s ts  nsito af themthmc\n",
      "39 try: g toritontlto build aothipl don't aoot tm tlotle thgmthem to ch ,ect aonp and won't ass tntteem to  s ao' work, dut authem tonthebhem to bont tor the tndle s tm  nsito af themthmm\n",
      "40 try: g torttoot wo build anthip, don't aoom tp teomle thg them to chnlent aonn and won't assitntteem to ks ao' donk, dut authem tosthethem to bont dor the tndle s w  e site af the thd,\n",
      "41 try: g torttoot wo build anchip, don't aoot tp teosle tog she  to ch lens aond and won't assidutteem to ks ao' dork, dut aather toss ethe  to bond dor the tnd e   i    sity af the thdd\n",
      "42 try: g torttont wo build anchip, don't aout tp teople togrsher to ch ,ept wond and ton't assitusteem to ks ao' work, dut aather toss ethe  to bond dor the tndle s is ensito af the thdm\n",
      "43 try: g tortloot wo build wnchip, doo't aout tp tyople tog shem to bh ,ect aond and ton't assitusteem tosks ao' wouk, dut auther toss e,he  to bend tor the tndle   i  emsity af the thmc\n",
      "44 try: g tortloot wo build dnchip, don't aout tp tyople togmshem to bo lect wond and ton't assigutteem tosks wnd wouk, dut aather tosshewhe  to bond dor themtndle s is ensity af themthrc\n",
      "45 try: g tortlont wo build dlchip, don't aout up teople tognshem to co lect wond and don't assigusthem tosksoand wonk, dut aather toashetoe  to bong wor themtndlens is ensito of the thrc\n",
      "46 try: g tortlont to build d ship, don't dout up people tog the  to co lect wond and don't dssignsthem tosks wnd donk, dut aather toashetoem to lond dor the tndle t is ensity of the torc\n",
      "47 try: g tortlont to build d ship, don't drum up pyople tog the  to co lect wond and don't dssignsthem tosks wnd donk, dut aather toach them to bong for the tndlent im ensity of the terc\n",
      "48 try: g tortlont to build d ship, don't drum up tyople tognsher to collemt wond and don't assigntthem tosks wnd donk, dut aather toach them to bond for the endlens immensity of the terc\n",
      "49 try: p tortwont to build anship, don't arum up tyople togsther to collemt wood and don't assigntthem tosks and dork, but aather toach them to bond for therendlens imrensity of the eerc\n",
      "50 try: p tortwoot to buildoanship, don't aaum up tyople togsthem to collect wood and don't assigntthem tosks and dork, dut rather toach them to bond for the endlens immensity of the terc\n",
      "51 try: p tortwont to build a ship, don't aaum up tyople tognshem to collect wood and don't assign them tosks and dork, but dather toach them to bond for the endless immensity of the eea,\n",
      "52 try: p toutwort to build a ship, don't aaum up tyople tog shem to collect wood and don't assign them tosks and work, but dathe  toach toem to long for the endless immensity of the werc\n",
      "53 try: g toutwort to luild a ship, don't aaum up tyople together to collect wood and don't dssign them tosks and work, dut aather toach toem to long for therendless immensity of the ehr,\n",
      "54 try: g toutwort to luild a ship, don't arum up tyople together to collect wood and don't dssign them tosks and work, dut rather toach toem to long for the endless immensity of the eer,\n",
      "55 try: g toutwort to build a ship, don't arum up people tog ther to collect wood and don't assign them tosks and work, but rather toach them to long for the endless immensity of the eerc\n",
      "56 try: g toutwont to build a ship, don't arum up tyople tognther to collect wood and don't dssign them tosks and work, but rather toach them to long for the endless immensity of the eerc\n",
      "57 try: g toutwont to luild a ship, don't arum up pyople together to collect wood and don't assign them tosks and work, but rather toach them to long for the endless immensity of the eerc\n",
      "58 try: g toutwont to build d shig, don't arum up people together to collect wood and don't assign them tosks and work, but eather toach the  to long for the tndless immensity of the teac\n",
      "59 try: g toutwont to luild a ship, don't drum up people together to collect wood and don't assign them tosks and work, but rather toach them to long for the endless immensity of the eeac\n",
      "60 try: g toutwont to build a ship, don't drum up people together to collect wood and don't dssign them tosks and work, but rather toach bhem to long for therendless immensity of the eea,\n",
      "61 try: g toutwont to build a ship, don't drum up people together to collect wood and don't dssign them tasks and work, but rather toach them to long for the endless immensity of the eea,\n",
      "62 try: g toutwant to build a ship, don't drum up people together to collect wood and don't dssign them tasks and work, but rather toach them ta long for the endless immensity of the sea,\n",
      "63 try: g toutwant to build a ship, don't drum up people together to collect wood and don't dssign them tasks and work, but rather toach them ta long for the endless immensity of the eea,\n",
      "64 try: g toutwant to build a ship, don't drum up people together to collect wood and don't dssign them tasks and work, but rather toach them ta long for the endless immensity of the eeac\n",
      "65 try: g toutwant to build a ship, don't drum up people together to collect wood and don't dssign them tasks and work, but rather toach them ta bong for the endless immensity of the sea,\n",
      "66 try: g youtwant to build a ship, don't drum up people together to collect wood and don't dssign them tasks and work, but rather toach them ta long for the endless immensity of the eea,\n",
      "67 try: g you want to build a thip, don't drum up people together to collect wood and don't dssign them tasks and work, but rather toach them ta long for the endless immensity of the eea,\n",
      "68 try: g you want to build a ship, don't drum up people together to collect wood and don't dssign them tasks and work, but rather toach them ta long for the endless immensity of the sea,\n",
      "69 try: g you want to build a ship, don't arum up people together to collect wood and don't assign them tasks and work, but rather toach them ta long for the endless immensity of the sea,\n",
      "70 try: g you want to luild a ship, don't arum up people together to collect wood and don't assign them tasks and work, but rather toach them ta long for the endless immensity of the sea,\n",
      "71 try: g you want to build a ship, don't arum up people together to collect wood and don't assign them tasks and work, but rather teach them ta bong for the endless immensity of the sea,\n",
      "72 try: g you want to build a ship, don't arum up people together to collect wood and don't assign them tasks and work, but rather toach them ta long for the endless immensity of the sea,\n",
      "73 try: g you want to build a ship, don't drum up people together to collect wood and don't dssign them tasks and work, but rather teach them ta long for the endless immensity of the eea,\n",
      "74 try: g you want to build a ship, don't drum up people together to collect wood and don't dssign them tasks and work, but rather toach them ta long for the endless immensity of the sea,\n",
      "75 try: g you want to build a ship, don't drum up people together to collect wood and don't dssign them tosks and work, but rather toach them to long for the endless immensity of the sea,\n",
      "76 try: geyou want to build a ship, don't drum up people together to collect wood and don't dssign them tosks and work, but rather toach them to long for the endless immensity of the sea,\n",
      "77 try: g you want to build a ship, don't drum up people together te collect wood and don't dssign them tosks and work, but rather teach them to long for the endless immensity of the seac\n",
      "78 try: g you want to build a ship, don't arum up people together to collect wood and don't assign them tosks and work, but rather toach them to long for the endless immensity of the seac\n",
      "79 try: g you want to build a ship, don't arum up people together to collect wood and don't assign them tosks and work, but rather toach them to long for the endless immensity of the seac\n",
      "80 try: g you want to build a ship, don't arum up people together to collect wood and don't assign them tasks and work, but rather teach them to long for the endless immensity of the seac\n",
      "81 try: g you want to build a ship, don't drum up peoplektogether to collect wood and don't dssign them tosks and work, but rather teach them to long for the endless immensity of the seac\n",
      "82 try: g you want to build a ship, don't drum up people together to collect wood and don't dssign them tosks and work, but rather toach them to bong for the endless immensity of the sea,\n",
      "83 try: g you want to build a ship, don't drum up people together te collect wood and don't dssign them tasks and work, but rather teach them ta long for the endless immensity of the sea,\n",
      "84 try: g you want to build a ship, don't drum up people together to collect wood and don't dssign them tasks and work, but rather teach them ta long for the endless immensity of the sea,\n",
      "85 try: g you want to build a ship, don't drum up people together to collect wood and don't dssign them tasks and work, but rather teach them ta long for the endless immensity of the seac\n",
      "86 try: g you want to build a ship, don't drum up people together to collect wood and don't dssign them tasks and work, but rather teach them ta long for the endless immensity of the sea,\n",
      "87 try: g you want to build a ship, don't drum up people together to collect wood and don't dssign them tasks and work, but rather teach them ta long for the endless immensity of the sea,\n",
      "88 try: g you want to build a ship, don't arum up people together to collect wood and don't assign them tasks and work, but rather toach them ta long for the endless immensity of the sea,\n",
      "89 try: g you want to build a ship, don't arum up people together te collect wood and don't assign them tosks and work, but rather teach them to long for the endless immensity of the sea,\n",
      "90 try: g you want to build a ship, don't arum up people together to collect wood and don't assign them tosks and work, but rather teach them to long for the endless immensity of the sea.\n",
      "91 try: g you want to build a ship, don't arum up people together to collect wood and don't assign them tasks and work, but rather toach them to long for the endless immensity of the sea.\n",
      "92 try: g you want to build a ship, don't arum up people together to collect wood and don't assign them tasks and work, but rather teach them ta long for the endless immensity of the sea.\n",
      "93 try: g you want to build a ship, don't arum up people together to collect wood and don't assign them tasks and work, but rather teach them ta long for the endless immensity of the sea.\n",
      "94 try: g you want to build a ship, don't arum up people together to collect wood and don't assign them tosks and work, but rather teach them to long for the endless immensity of the seac\n",
      "95 try: g you want to build a ship, don't drum up people together to collect wood and don't dssign them tosks and work, but rather teach them to long for the endless immensity of the sea,\n",
      "96 try: g you want to build a ship, don't drum up people together to collect wood and don't dssign them tasks and work, but rather teach them ta long for the endless immensity of the sea,\n",
      "97 try: g you want to build a ship, don't drum up people together to collect wood and don't dssign them tasks and work, but rather teach them to long for the endless immensity of the sea,\n",
      "98 try: g you want to build a ship, don't drum up people together to collect wood and don't dssign them tasks and work, but rather teach them to long for the endless immensity of the sea,\n",
      "99 try: g you want to build a ship, don't drum up people together to collect wood and don't dssign them tasks and work, but rather teach them to long for the endless immensity of the sea,\n"
     ]
    }
   ],
   "source": [
    "for i in range(100):\n",
    "    optimizer.zero_grad()\n",
    "    outputs = net(X)\n",
    "    loss = criterion(outputs.view(-1, dic_size), Y.view(-1))\n",
    "    loss.backward()\n",
    "    optimizer.step()\n",
    "\n",
    "    \n",
    "    results = outputs.argmax(dim=2)\n",
    "    predict_str = \"\"\n",
    "    for j, result in enumerate(results):\n",
    "        if j == 0:\n",
    "            predict_str += ''.join([char_set[t] for t in result])\n",
    "        else:\n",
    "            predict_str += char_set[result[-1]]\n",
    "    print(\"{} try: {}\".format(i,predict_str))"
   ]
  },
  {
   "cell_type": "code",
   "execution_count": null,
   "metadata": {},
   "outputs": [],
   "source": []
  }
 ],
 "metadata": {
  "kernelspec": {
   "display_name": "base",
   "language": "python",
   "name": "python3"
  },
  "language_info": {
   "codemirror_mode": {
    "name": "ipython",
    "version": 3
   },
   "file_extension": ".py",
   "mimetype": "text/x-python",
   "name": "python",
   "nbconvert_exporter": "python",
   "pygments_lexer": "ipython3",
   "version": "3.10.9"
  },
  "orig_nbformat": 4
 },
 "nbformat": 4,
 "nbformat_minor": 2
}
