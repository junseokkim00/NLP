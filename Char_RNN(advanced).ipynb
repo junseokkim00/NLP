{
 "cells": [
  {
   "attachments": {},
   "cell_type": "markdown",
   "metadata": {},
   "source": [
    "# Char_RNN (using a lot of sentence as data)"
   ]
  },
  {
   "cell_type": "code",
   "execution_count": 61,
   "metadata": {},
   "outputs": [],
   "source": [
    "import torch\n",
    "import torch.nn as nn\n",
    "import torch.optim as optim\n",
    "import numpy as np"
   ]
  },
  {
   "cell_type": "code",
   "execution_count": 62,
   "metadata": {},
   "outputs": [],
   "source": [
    "sentence = (\"if you want to build a ship, don't drum up people together to \"\n",
    "            \"collect wood and don't assign them tasks and work, but rather \"\n",
    "            \"teach them to long for the endless immensity of the sea.\")"
   ]
  },
  {
   "cell_type": "code",
   "execution_count": 63,
   "metadata": {},
   "outputs": [
    {
     "name": "stdout",
     "output_type": "stream",
     "text": [
      "{'s': 0, 'g': 1, 'h': 2, 'k': 3, 'e': 4, 'w': 5, 'd': 6, '.': 7, 'f': 8, 'r': 9, 'b': 10, ' ': 11, 'p': 12, 'y': 13, 'c': 14, 'a': 15, 'u': 16, 'i': 17, 'o': 18, 'n': 19, \"'\": 20, 'l': 21, 't': 22, ',': 23, 'm': 24}\n"
     ]
    }
   ],
   "source": [
    "char_set = list(set(sentence))\n",
    "char_dic = {c: i for i, c in enumerate(char_set)}\n",
    "print(char_dic)"
   ]
  },
  {
   "cell_type": "code",
   "execution_count": 64,
   "metadata": {},
   "outputs": [
    {
     "name": "stdout",
     "output_type": "stream",
     "text": [
      "25\n"
     ]
    }
   ],
   "source": [
    "dic_size = len(char_dic)\n",
    "print(dic_size)"
   ]
  },
  {
   "cell_type": "code",
   "execution_count": 65,
   "metadata": {},
   "outputs": [],
   "source": [
    "hidden_size = dic_size\n",
    "timesteps = 10\n",
    "lr = 0.1"
   ]
  },
  {
   "cell_type": "code",
   "execution_count": 66,
   "metadata": {},
   "outputs": [
    {
     "name": "stdout",
     "output_type": "stream",
     "text": [
      "0 if you wan => f you want\n",
      "1 f you want =>  you want \n",
      "2  you want  => you want t\n",
      "3 you want t => ou want to\n",
      "4 ou want to => u want to \n",
      "5 u want to  =>  want to b\n",
      "6  want to b => want to bu\n",
      "7 want to bu => ant to bui\n",
      "8 ant to bui => nt to buil\n",
      "9 nt to buil => t to build\n",
      "10 t to build =>  to build \n",
      "11  to build  => to build a\n",
      "12 to build a => o build a \n",
      "13 o build a  =>  build a s\n",
      "14  build a s => build a sh\n",
      "15 build a sh => uild a shi\n",
      "16 uild a shi => ild a ship\n",
      "17 ild a ship => ld a ship,\n",
      "18 ld a ship, => d a ship, \n",
      "19 d a ship,  =>  a ship, d\n",
      "20  a ship, d => a ship, do\n",
      "21 a ship, do =>  ship, don\n",
      "22  ship, don => ship, don'\n",
      "23 ship, don' => hip, don't\n",
      "24 hip, don't => ip, don't \n",
      "25 ip, don't  => p, don't d\n",
      "26 p, don't d => , don't dr\n",
      "27 , don't dr =>  don't dru\n",
      "28  don't dru => don't drum\n",
      "29 don't drum => on't drum \n",
      "30 on't drum  => n't drum u\n",
      "31 n't drum u => 't drum up\n",
      "32 't drum up => t drum up \n",
      "33 t drum up  =>  drum up p\n",
      "34  drum up p => drum up pe\n",
      "35 drum up pe => rum up peo\n",
      "36 rum up peo => um up peop\n",
      "37 um up peop => m up peopl\n",
      "38 m up peopl =>  up people\n",
      "39  up people => up people \n",
      "40 up people  => p people t\n",
      "41 p people t =>  people to\n",
      "42  people to => people tog\n",
      "43 people tog => eople toge\n",
      "44 eople toge => ople toget\n",
      "45 ople toget => ple togeth\n",
      "46 ple togeth => le togethe\n",
      "47 le togethe => e together\n",
      "48 e together =>  together \n",
      "49  together  => together t\n",
      "50 together t => ogether to\n",
      "51 ogether to => gether to \n",
      "52 gether to  => ether to c\n",
      "53 ether to c => ther to co\n",
      "54 ther to co => her to col\n",
      "55 her to col => er to coll\n",
      "56 er to coll => r to colle\n",
      "57 r to colle =>  to collec\n",
      "58  to collec => to collect\n",
      "59 to collect => o collect \n",
      "60 o collect  =>  collect w\n",
      "61  collect w => collect wo\n",
      "62 collect wo => ollect woo\n",
      "63 ollect woo => llect wood\n",
      "64 llect wood => lect wood \n",
      "65 lect wood  => ect wood a\n",
      "66 ect wood a => ct wood an\n",
      "67 ct wood an => t wood and\n",
      "68 t wood and =>  wood and \n",
      "69  wood and  => wood and d\n",
      "70 wood and d => ood and do\n",
      "71 ood and do => od and don\n",
      "72 od and don => d and don'\n",
      "73 d and don' =>  and don't\n",
      "74  and don't => and don't \n",
      "75 and don't  => nd don't a\n",
      "76 nd don't a => d don't as\n",
      "77 d don't as =>  don't ass\n",
      "78  don't ass => don't assi\n",
      "79 don't assi => on't assig\n",
      "80 on't assig => n't assign\n",
      "81 n't assign => 't assign \n",
      "82 't assign  => t assign t\n",
      "83 t assign t =>  assign th\n",
      "84  assign th => assign the\n",
      "85 assign the => ssign them\n",
      "86 ssign them => sign them \n",
      "87 sign them  => ign them t\n",
      "88 ign them t => gn them ta\n",
      "89 gn them ta => n them tas\n",
      "90 n them tas =>  them task\n",
      "91  them task => them tasks\n",
      "92 them tasks => hem tasks \n",
      "93 hem tasks  => em tasks a\n",
      "94 em tasks a => m tasks an\n",
      "95 m tasks an =>  tasks and\n",
      "96  tasks and => tasks and \n",
      "97 tasks and  => asks and w\n",
      "98 asks and w => sks and wo\n",
      "99 sks and wo => ks and wor\n",
      "100 ks and wor => s and work\n",
      "101 s and work =>  and work,\n",
      "102  and work, => and work, \n",
      "103 and work,  => nd work, b\n",
      "104 nd work, b => d work, bu\n",
      "105 d work, bu =>  work, but\n",
      "106  work, but => work, but \n",
      "107 work, but  => ork, but r\n",
      "108 ork, but r => rk, but ra\n",
      "109 rk, but ra => k, but rat\n",
      "110 k, but rat => , but rath\n",
      "111 , but rath =>  but rathe\n",
      "112  but rathe => but rather\n",
      "113 but rather => ut rather \n",
      "114 ut rather  => t rather t\n",
      "115 t rather t =>  rather te\n",
      "116  rather te => rather tea\n",
      "117 rather tea => ather teac\n",
      "118 ather teac => ther teach\n",
      "119 ther teach => her teach \n",
      "120 her teach  => er teach t\n",
      "121 er teach t => r teach th\n",
      "122 r teach th =>  teach the\n",
      "123  teach the => teach them\n",
      "124 teach them => each them \n",
      "125 each them  => ach them t\n",
      "126 ach them t => ch them to\n",
      "127 ch them to => h them to \n",
      "128 h them to  =>  them to l\n",
      "129  them to l => them to lo\n",
      "130 them to lo => hem to lon\n",
      "131 hem to lon => em to long\n",
      "132 em to long => m to long \n",
      "133 m to long  =>  to long f\n",
      "134  to long f => to long fo\n",
      "135 to long fo => o long for\n",
      "136 o long for =>  long for \n",
      "137  long for  => long for t\n",
      "138 long for t => ong for th\n",
      "139 ong for th => ng for the\n",
      "140 ng for the => g for the \n",
      "141 g for the  =>  for the e\n",
      "142  for the e => for the en\n",
      "143 for the en => or the end\n",
      "144 or the end => r the endl\n",
      "145 r the endl =>  the endle\n",
      "146  the endle => the endles\n",
      "147 the endles => he endless\n",
      "148 he endless => e endless \n",
      "149 e endless  =>  endless i\n",
      "150  endless i => endless im\n",
      "151 endless im => ndless imm\n",
      "152 ndless imm => dless imme\n",
      "153 dless imme => less immen\n",
      "154 less immen => ess immens\n",
      "155 ess immens => ss immensi\n",
      "156 ss immensi => s immensit\n",
      "157 s immensit =>  immensity\n",
      "158  immensity => immensity \n",
      "159 immensity  => mmensity o\n",
      "160 mmensity o => mensity of\n",
      "161 mensity of => ensity of \n",
      "162 ensity of  => nsity of t\n",
      "163 nsity of t => sity of th\n",
      "164 sity of th => ity of the\n",
      "165 ity of the => ty of the \n",
      "166 ty of the  => y of the s\n",
      "167 y of the s =>  of the se\n",
      "168  of the se => of the sea\n",
      "169 of the sea => f the sea.\n"
     ]
    }
   ],
   "source": [
    "x_data = []\n",
    "y_data = []\n",
    "\n",
    "for i in range(0, len(sentence) - timesteps):\n",
    "    x_str = sentence[i:i + timesteps]\n",
    "    y_str = sentence[i+1: i + timesteps + 1]\n",
    "    print(i, x_str, '=>', y_str)\n",
    "\n",
    "    x_data.append([char_dic[c] for c in x_str])\n",
    "    y_data.append([char_dic[c] for c in y_str])"
   ]
  },
  {
   "cell_type": "code",
   "execution_count": 67,
   "metadata": {},
   "outputs": [],
   "source": [
    "x_one_hot = np.eye(dic_size)[x_data]\n",
    "X = torch.FloatTensor(x_one_hot)\n",
    "Y = torch.LongTensor(y_data)"
   ]
  },
  {
   "cell_type": "code",
   "execution_count": 68,
   "metadata": {},
   "outputs": [
    {
     "name": "stdout",
     "output_type": "stream",
     "text": [
      "torch.Size([170, 10, 25])\n",
      "torch.Size([170, 10])\n"
     ]
    }
   ],
   "source": [
    "print(X.shape)\n",
    "print(Y.shape)"
   ]
  },
  {
   "cell_type": "code",
   "execution_count": 69,
   "metadata": {},
   "outputs": [],
   "source": [
    "class Net(nn.Module):\n",
    "    def __init__(self, input_dim, hidden_dim, layers):\n",
    "        super(Net, self).__init__()\n",
    "        self.rnn = nn.RNN(input_dim, hidden_dim, num_layers=layers, batch_first=True)\n",
    "        self.fc = nn.Linear(hidden_dim, hidden_dim, bias=True)\n",
    "\n",
    "    def forward(self, x):\n",
    "        x, _status = self.rnn(x)\n",
    "        x = self.fc(x)\n",
    "        return x"
   ]
  },
  {
   "cell_type": "code",
   "execution_count": 70,
   "metadata": {},
   "outputs": [],
   "source": [
    "net = Net(dic_size, hidden_size, 2)"
   ]
  },
  {
   "cell_type": "code",
   "execution_count": 71,
   "metadata": {},
   "outputs": [],
   "source": [
    "criterion = nn.CrossEntropyLoss()\n",
    "optimizer = optim.Adam(net.parameters(), lr)"
   ]
  },
  {
   "cell_type": "code",
   "execution_count": 72,
   "metadata": {},
   "outputs": [
    {
     "name": "stdout",
     "output_type": "stream",
     "text": [
      "torch.Size([1700, 25])\n"
     ]
    }
   ],
   "source": [
    "outputs = net(X)\n",
    "print(outputs.view(-1, dic_size).shape)"
   ]
  },
  {
   "cell_type": "code",
   "execution_count": 73,
   "metadata": {},
   "outputs": [
    {
     "name": "stdout",
     "output_type": "stream",
     "text": [
      "torch.Size([1700])\n"
     ]
    }
   ],
   "source": [
    "print(Y.view(-1).shape)"
   ]
  },
  {
   "cell_type": "code",
   "execution_count": 74,
   "metadata": {},
   "outputs": [
    {
     "name": "stdout",
     "output_type": "stream",
     "text": [
      "0 try: mtmmuumtuumttumttmlumummtmtmtamumumtmummtuttuuutumtummuummmuumtumluamutumttuumttmumumuumtmumtummtluumtmuumttummumttammuuummmuuuummtummtlumtuumttumtlumtmumtumtttmuuutmlumummttmttum\n",
      "1 try: ttttttttttttttttttttttttttttttttttttttttttttttttttttttttttttttttttttttttttttttttttttttttttttttttttttttttttttttttttttttttttttttttttttttttttttttttttttttttttttttttttttttttttttttttttt\n",
      "2 try:        e                e e                       e                                                        e                                                                       \n",
      "3 try: t..'t.y t. i..g ...i... ...g.. ....g .....c ...i........' ...i...c ..ci..'...c...c...c...'......... ...ci....g...c...g... ...............c...c ..gg..c ..' .......yc....' ........c\n",
      "4 try: t t tlh dtlo tlo dtlo t dlh  tdlo dtdd idolo dtlodhtlhd tlo tlh dolo dh lh ltlo tlh  tlhd ldhodh htlo iddot tdh ttdlo tiddltdolh  odd d tlo dtloilo tdhodtdohiddl d dllodtlhoihl tt\n",
      "5 try:     t h h                 h t t o              t       h        t t  t                  t   h   t       t h       t t h       t           h t t    h      t h         h      t     \n",
      "6 try:     t  tt   o             u     t a            t                  u u                     t    u      t t             t a   o    t a      o   t              u          t   o  u a \n",
      "7 try:   r e ror uo e oo o e tot t t r tot t  e otoe  t too aot  o e ao o o eoa roae e e tot e to to r e r a r e toa t e t t t a  o o t toa  ror a  otor e a tot t e r e t r  oto e t toe \n",
      "8 try:  ,t e eoe t or ,  r e t t t t e t t t et  tt e t   e t e  tor t eoe eo e  ot  t e t t t t e o  tt r t t t toe t t t t t t  tor t t e etor t e toe t e t t t e t e t e e te t t t e \n",
      "9 try:  ,t e  o   toe  t t tot ere ton t e  t toeten  t toe  t r toe ,  t toeoer toe toe toe    e toer toe e eo  tor t t e e   er toe totoe  toe t  tton toer o  e e to r t t ete eoe  on \n",
      "10 try: l,toepto t toep t t t toeto tonlt e  i to t np t toe ,oep tonlo lect toep to  tonlt tn   e t ep to le t e to  t t e t e ep tonlo to p tonlo c,ton t ep nt n s to   t to to t ep  t \n",
      "11 try: l,tonlto t to l ile t themo to lt t    to to p o toel, ep to to l  t to   tnt to lt t   le t ep to l  t t to lt t d t s  p to lo toem to to t to lt emt t     tn  t  lo to t ept te\n",
      "12 try: loton tonl tonl i d tnt  me tor't dm   dn ten le ton  hem tonlo le t do   tnt tnr't d   l  t    donl  tnt tonlt t t dis  m ton'o toem tonto l torlthemt d d   ii  ii lo tn dhe t ie\n",
      "13 try: lodon tonc donc i d tnt dm  tor't dm   to ted lo the  hem tonco ce t don  and dnr't dri g  ther tonl  tnt donc, d t drdhem tonco them torcon' aorkthert d d   d   dr go do doerl i'\n",
      "14 try: goaon tonc aonc i d anrh mo tor'tham   ao toarle the ther tonconle t aon  anr tor'thami g  them ton'  tnd tork, a thamdher thaco them tonconc aorktherond e   ii  ir go ao theme i \n",
      "15 try: g aon tont aoemei d aoah m, ton't am m ao toa le the them toemonle t aoe  anc tor't ari g  them toem  tnd tonk, a thaither thach them to conk cor themerg e i i   is go ao theme is\n",
      "16 try: g aon tont wo c a d tnt em, ton't am m to tea lelthe them to co lect aoe' anc tor't a i g  them toek  tnt tonk, a tht ther toech them to conklcor t emend esi i   ss gh ao theme as\n",
      "17 try: g bo  tont wo d i d ant em, to 't ar m ao tei le to  them to ponlect ao ' anc aor't ariigisther toeks tnt ionk, a t a ther torch them ao konk aor t emeod e i iri is go eo toeme is\n",
      "18 try: dnbo  tontlwo p i d ant ep, ton't tr m ao teaple toe them to po lect do l and aon't t s gs ther torks tnt worl, t t t ther tonch them ao konk aor t emeosless iri ss gy en thert is\n",
      "19 try: dnbo  tont do b i d ant ip, ton't tr m ao iensle to  ther to po lect do p ant don't t iign ther to ks tnt wor', t t i ther toach ther to donk aor therend ess ipi rp dy en there rs\n",
      "20 try: dnbo ptant do p ild wnthip, don't tr m io penple ton'ther to collect do l ant don't tniign ther to ks tnt work, tut i ther torch them to lonk aor themend ess tpm rpidy en there rs\n",
      "21 try: dnbo ptant do build a thip, don't d  m ap penple th  them to pollect do l ant don't dnsign them toeks and dork, bnt i ther torch ther to lonk aor thertndless ipmentigy en thertnrs\n",
      "22 try: gnbooptant do build anthip, don't ar m ap penple tho them toocollect donp and don't ansign them toeks and dork, but a them torch them to lonk aor themend ess ipmensigy en therturs\n",
      "23 try: gnboo tand do build a thip, don't ar m tp penple th  them to co lect doop and don't assign them toeks and tork, but a ther torch ther to lonk bor themend ess ipmenssgy af thert rs\n",
      "24 try: gnboo tand to cuild anthip, don't ar m ap penple too ther togcollect wood and ton't assign ther tosks and tonk, but apther torch ther to lonk aor therendkess ipmenssgy af thers rs\n",
      "25 try: gnboo want to build a thip, don't arum ap pendle too ther to bollect wood and won't assign them tosks and work, but apther toach them to lonl aor themendless ipmenssgy oo thereors\n",
      "26 try: gnboo want to luild a thip, don't arut ap penple tog them toglollect wood and won't assign them tosks and work, but apthur toach them to lonl for themendkess ipmensigy of themwhas\n",
      "27 try: gnboo want to build a thip, don't arum ap peaple to ether to collect wooc and don't assign them tosks and work, but asther toach them to lonl for themendless immensity of themssrs\n",
      "28 try: tnboo'want to build aethip, don't arum ap penpee together to bollect wood and don't assign them tosks and work, but a ther toach them to lon' for themendless immensity of themshrs\n",
      "29 try: tnboo'want to build a shim, don't arum dp penple together to collect wood and won't assign them tosks and work, but a ther toach them to long for themendless immensity of themsers\n",
      "30 try: gnboo'want to build a shim, don't arum dp people together to collect wood and won't assign them tosks and work, but a dher toach them to long for themendless immensity of themeers\n",
      "31 try: tnboo'want to build a ship, don't arum ap people together to collect wood and don't assign them tosks and aork, but a ther toach them to long for themendless immensity of themsers\n",
      "32 try: tnroo want to build a ship, don't arum up pepple together to collect wood and don't assign them tosks and work, but aather toach them to long for themendless immensity of themseas\n",
      "33 try: pnroo want to build a ship, don't arum up pepple together to lollect wood and don't assign them tosks and work, but aather toach them to long for toemendless immensity of themseas\n",
      "34 try: pnfoo want to build a ship, don't arum up people together to collect wood and don't assign the  tosks and work, but aather toach them to long for the endless ipmensity of the seas\n",
      "35 try: tnfoo want to build a ship, don't drum up people together to collect wood and don't assign them tosks and dork, but rather toach them to long for themendless ipmensity of the seac\n",
      "36 try: tmfoo want to build a ship, don't drum up people together to collect wood and don't dssign them tosks and work, but rather toach them to long for the endless immensity of the seac\n",
      "37 try: pmfoo want to build a ship, don't drum up people together to collect wood and don't dssign them tosks and work, but rather toach them to long for the endless immensity of the seac\n",
      "38 try: pmfooswant to build a ship, don't drum up people together to collect wood and don't dssign them tosks and work, but rather toach them to long for the endless immensity of the seas\n",
      "39 try: pmfooswant to build a ship, don't drum up people together to collect wood and don't dssign them tosks and work, but rather toach them ta long for the endless immensity of the seas\n",
      "40 try: pmfooswant to build a ship, don't drum up people together te collect wood and don't dssign them tosks and work, but rather teach them to long for the endless immensity of the seas\n",
      "41 try: pmfooswant to build a ship, don't drum up people together te collect wood and don't dssign them tosks and work, but rather teach them to long for the endless immensity of the eeas\n",
      "42 try: pnfooswant to build a ship, don't drum up people together te collect wood and don't dssign them tosks and work, but rather teach them to long for the endless immensity of the seas\n",
      "43 try: pnyouswant to build a ship, don't drum up people together te collect wood and don't dssign them tosks and work, but rather teach them to long for the endless immensity of the seas\n",
      "44 try: pnyouswant to build a ship, don't drum up people together te collect wood and don't dssign them tosks and work, but rather teach them to long for the endless immensity of the seas\n",
      "45 try: pnyoo want to build a ship, don't drum up people together to collect wood and don't dssign them tosks and work, but rather toach them to long for the endless immensity of the seas\n",
      "46 try: plyoo want to build a ship, don't drum up people together to collect wood and don't dssign them tosks and work, but rather teach them to long for the endless immensity of the seas\n",
      "47 try: plyou want to build a ship, don't drum up people together to collect wood and don't dssign them tosks and work, but rather teach them to long for the endless immensity of the seas\n",
      "48 try: pmyou want to build a ship, don't drum up people together to collect wood and don't dssign them tosks and work, but rather toach them to long for the endless immensity of the seas\n",
      "49 try: pmyou want to build a ship, don't drum up people together to collect wood and don't dssign them tasks and work, but rather toach them ta long for the endless immensity of the seac\n",
      "50 try: pmyou want to build a ship, don't drum up people together to collect wood and don't dssign them tosks and work, but rather toach them ta long for the endless immensity of the seac\n",
      "51 try: pmyou want to build a ship, don't drum up people together to collect wood and don't dssign them tosks and work, but rather toach them to long for the endless immensity of the seac\n",
      "52 try: pmyou want to build a ship, don't drum up people together to collect wood and don't dssign them tosks and work, but rather teach them to long for the endless immensity of the seac\n",
      "53 try: pmyou want to build a ship, don't drum up people together to collect wood and don't dssign them tasks and work, but rather teach them ta long for the endless immensity of the seac\n",
      "54 try: pmyou want to build a ship, don't drum up people together to collect wood and don't dssign them tosks and work, but rather teach them to long for the endless immensity of the seac\n",
      "55 try: pmyou want to build a ship, don't drum up people together to collect wood and don't dssign them tosks and work, but rather teach them to long for the endless immensity of the seac\n",
      "56 try: pmyou want to build a ship, don't drum up people together to collect wood and don't dssign them tasks and work, but rather teach them ta long for the endless immensity of the seac\n",
      "57 try: pmyou want to build a ship, don't drum up people together to collect wood and don't dssign them tasks and work, but rather teach them ta long for the endless immensity of the seac\n",
      "58 try: pmyou want to build a ship, don't drum up people together to collect wood and don't dssign them tosks and work, but rather teach them to long for the endless immensity of the seac\n",
      "59 try: p you want to build a ship, don't drum up people together to collect wood and don't dssign them tosks and work, but rather teach them to long for the endless immensity of the seac\n",
      "60 try: p you want to build a ship, don't drum up people together to collect wood and don't dssign them tosks and work, but rather teach them to long for the endless immensity of the seac\n",
      "61 try: p you want to build a ship, don't arum up people together to collect wood and don't assign them tosks and work, but rather teach them to long for the endless immensity of the seac\n",
      "62 try: p you want to build a ship, don't arum up people together to collect wood and don't assign them tasks and work, but rather teach them to long for the endless immensity of the seac\n",
      "63 try: p you want to build a ship, don't drum up people together to collect wood and don't dssign them tasks and work, but rather teach them to long for the endless immensity of the seac\n",
      "64 try: p you want to build a ship, don't drum up people together to collect wood and don't dssign them tosks and work, but rather teach them to long for the endless immensity of the seac\n",
      "65 try: p you want to build a ship, don't drum up people together to collect wood and don't dssign them tosks and work, but rather teach them to long for the endless immensity of the seac\n",
      "66 try: t you want to build a ship, don't drum up people together to collect wood and don't dssign them tasks and work, but rather teach them to long for the endless immensity of the seac\n",
      "67 try: t you want to build a ship, don't drum up people together to collect wood and don't dssign them tasks and work, but rather teach them to long for the endless immensity of the seac\n",
      "68 try: p you want to build a ship, don't drum up people together to collect wood and don't dssign them tasks and work, but rather teach them to long for the endless immensity of the seac\n",
      "69 try: p you want to build a ship, don't drum up people together to collect wood and don't dssign them tasks and work, but rather teach them to long for the endless immensity of the seac\n",
      "70 try: p you want to build a ship, don't drum up people together to collect wood and don't dssign them tasks and work, but rather teach them to long for the endless immensity of the seac\n",
      "71 try: p you want to build a ship, don't drum up people together to collect wood and don't dssign them tasks and work, but rather teach them to long for the endless immensity of the seac\n",
      "72 try: p you want to build a ship, don't arum up people together to collect wood and don't assign them tasks and work, but rather teach them to long for the endless immensity of the seac\n",
      "73 try: t you want to build a ship, don't arum up people together to collect wood and don't assign them tasks and work, but rather teach them to long for the endless immensity of the seac\n",
      "74 try: t you want to build a ship, don't arum up people together to collect wood and don't assign them tasks and work, but rather teach them to long for the endless immensity of the seac\n",
      "75 try: t you want to build a ship, don't arum up people together to collect wood and don't assign them tasks and work, but rather teach them to long for the endless immensity of the seas\n",
      "76 try: p you want to build a ship, don't drum up people together to collect wood and don't dssign them tasks and work, but rather teach them to long for the endless immensity of the seac\n",
      "77 try: p you want to build a ship, don't drum up people together to collect wood and don't dssign them tasks and work, but rather teach them to long for the endless immensity of the seas\n",
      "78 try: p you want to build a ship, don't drum up people together to collect wood and don't dssign them tasks and work, but rather teach them to long for the endless immensity of the seas\n",
      "79 try: p you want to build a ship, don't drum up people together to collect wood and don't dssign them tasks and work, but rather teach them to long for the endless immensity of the seas\n",
      "80 try: p you want to build a ship, don't drum up people together to collect wood and don't dssign them tasks and work, but rather teach them to long for the endless immensity of the seas\n",
      "81 try: p you want to build a ship, don't drum up people together to collect wood and don't dssign them tosks and work, but rather teach them to long for the endless immensity of the seas\n",
      "82 try: p you want to build a ship, don't drum up people together to collect wood and don't dssign them tasks and work, but rather teach them ta long for the endless immensity of the seas\n",
      "83 try: p you want to build a ship, don't drum up people together to collect wood and don't dssign them tasks and work, but rather teach them ta long for the endless immensity of the seas\n",
      "84 try: p you want to build a ship, don't arum up people together to collect wood and don't assign them tasks and work, but rather teach them to long for the endless immensity of the seas\n",
      "85 try: p you want to build a ship, don't arum up people together to collect wood and don't assign them tasks and work, but rather teach them to long for the endless immensity of the seas\n",
      "86 try: p you want to build a ship, don't drum up people together to collect wood and don't dssign them tasks and work, but rather teach them to long for the endless immensity of the sea.\n",
      "87 try: p you want to build a ship, don't arum up people together to collect wood and don't assign them tasks and work, but rather teach them ta long for the sndless immensity of the sea.\n",
      "88 try: p yeu want to build a ship, don't dr m up people to ether te wollect wood and don't dssign therewosk, and work, but ratherhteach toemedo wong for toemend osseimmensity of the eers\n",
      "89 try: g you want th cutld a ship, don't drum ts peoplectogethem togcollect wogd and tongt d sign the etosks and work, but usthem toash the eto cong fod the endlessitmmetsity ufkthe enag\n",
      "90 try: p you tant to cuild a ship, don't arum tp people togethem t  collect dond and ton t assitn them toaks andlwark, bui rathem toach them toabong,for themendmess immensity ur t amehas\n",
      "91 try: p you wont lo luild a ship, don't aoum rp people togethem to collect tood and don't andignemhem tosks ind work, bui rathem toach them to bong for themendmess rmmensip  of themehrs\n",
      "92 try: g you want to buald a ship, don't aruy rpemeorle together te bollect tood and don't a s gnether tosks r d wor , bua r ther toach ther to bong for therendless ipmens ty of therchas\n",
      "93 try: g you wanthda build a shig, don't drul up people together to collect wofd and don't dssign ther tasks isd work, but rasher teach ther to long for the endless imiensity of the eeas\n",
      "94 try: g aou wanthto lui n a shif, don't irii up people tooether to codlect wonp and don't issign ther tasks isd work, but rather toash ther to cong for the endless immansigy of the seat\n",
      "95 try: g aou want to build a ship, don't drum op people togethem tegcollect wond and don't dssign them tasks ind work, but oathem teuch the  ta long fop the endless immensity of the eeac\n",
      "96 try: t youdwant to build a ship, don't wrum op people togethem tegcollect wood and don't wnsign them tasks and work, but oathem teach them ta long for themendless immensity ofgthdmseat\n",
      "97 try: t you  ant to luild a shipl dom't arum dp people thgether te collect wood and don't assign them tasks and work, but rathem teach them ta long for themendless immensity ofkthemserp\n",
      "98 try: ttfoe want to lutld a ship, dfn't arum up people th ether th collect wood and don't dssign ther tosks and work, but rather thach them ta long for themendless immensity ofkthemserb\n",
      "99 try: ptfoe want to build a ship, dfn't drum up people to ether te collect wood and won't dssign the  tasks and work, but rather teach them to lon' for the sndless immensity of the seab\n"
     ]
    }
   ],
   "source": [
    "for i in range(100):\n",
    "    optimizer.zero_grad()\n",
    "    outputs = net(X)\n",
    "    loss = criterion(outputs.view(-1, dic_size), Y.view(-1))\n",
    "    loss.backward()\n",
    "    optimizer.step()\n",
    "\n",
    "    \n",
    "    results = outputs.argmax(dim=2)\n",
    "    predict_str = \"\"\n",
    "    for j, result in enumerate(results):\n",
    "        if j == 0:\n",
    "            predict_str += ''.join([char_set[t] for t in result])\n",
    "        else:\n",
    "            predict_str += char_set[result[-1]]\n",
    "    print(\"{} try: {}\".format(i,predict_str))"
   ]
  },
  {
   "cell_type": "code",
   "execution_count": null,
   "metadata": {},
   "outputs": [],
   "source": []
  }
 ],
 "metadata": {
  "kernelspec": {
   "display_name": "base",
   "language": "python",
   "name": "python3"
  },
  "language_info": {
   "codemirror_mode": {
    "name": "ipython",
    "version": 3
   },
   "file_extension": ".py",
   "mimetype": "text/x-python",
   "name": "python",
   "nbconvert_exporter": "python",
   "pygments_lexer": "ipython3",
   "version": "3.9.16"
  },
  "orig_nbformat": 4
 },
 "nbformat": 4,
 "nbformat_minor": 2
}
